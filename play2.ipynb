{
 "cells": [
  {
   "cell_type": "code",
   "execution_count": 4,
   "metadata": {},
   "outputs": [],
   "source": [
    "import time\n",
    "from termcolor import colored\n",
    "from simpleeval import simple_eval\n",
    "import random\n",
    "\n",
    "class Bot:\n",
    "    wait=1\n",
    "    def __init__(self):\n",
    "        self.b=''\n",
    "    def _think(self,s):\n",
    "        return s\n",
    "    def _say(self,s):\n",
    "        time.sleep(Bot.wait)\n",
    "        print(s)\n",
    "    def run(self):\n",
    "        self._say(self.b)\n",
    "        self.a=input()\n",
    "        self._say(self._think(self.a))"
   ]
  },
  {
   "cell_type": "code",
   "execution_count": 5,
   "metadata": {},
   "outputs": [],
   "source": [
    "class Hellobot(Bot):\n",
    "    def __init__(self):\n",
    "        self.b='let us talk, what\\' your name'\n",
    "    def _think(self,s):\n",
    "        return f'hello {s}'\n",
    "\n",
    "class Greetingbot(Bot):\n",
    "    def __init__(self):\n",
    "        self.b='How are you today?'\n",
    "    def _think(self,s):\n",
    "        if 'good' in s:\n",
    "            return 'I\\'m good too!'\n",
    "        else:\n",
    "            return 'sorry to hear that'\n",
    "\n",
    "\n",
    "class Colorsbot(Bot):\n",
    "    def __init__(self):\n",
    "        self.b='what\\'s the favorite color do you like?'\n",
    "    def _think(self,s):\n",
    "        colors=['red','orange','blue','green','puple','pink',]\n",
    "        return f'your favorite color is {s},My favoite color is {random.choice(colors)}.'\n",
    "\n",
    "\n",
    "class Caculatebot(Bot):\n",
    "    def __init__(self):\n",
    "        self.b='Through the upgrade of the sytem,It can do simple aristhmetic now,please try'\n",
    "    def _think(self,s):\n",
    "        result=simple_eval(s)\n",
    "        return f'Done.Result={result}'\n",
    "    def run(self):\n",
    "        self._say(self.b)\n",
    "        while True:\n",
    "            self.a=input()\n",
    "            if self.a.lower() in ['exit','quit','x','c']:\n",
    "                break            \n",
    "            self._say(self._think(self.a))\n"
   ]
  },
  {
   "cell_type": "code",
   "execution_count": 6,
   "metadata": {},
   "outputs": [
    {
     "name": "stdout",
     "output_type": "stream",
     "text": [
      "let us talk, what' your name\n"
     ]
    },
    {
     "name": "stdin",
     "output_type": "stream",
     "text": [
      " grace\n"
     ]
    },
    {
     "name": "stdout",
     "output_type": "stream",
     "text": [
      "hello grace\n",
      "How are you today?\n"
     ]
    },
    {
     "name": "stdin",
     "output_type": "stream",
     "text": [
      " good\n"
     ]
    },
    {
     "name": "stdout",
     "output_type": "stream",
     "text": [
      "I'm good too!\n",
      "what's the favorite color do you like?\n"
     ]
    },
    {
     "name": "stdin",
     "output_type": "stream",
     "text": [
      " red\n"
     ]
    },
    {
     "name": "stdout",
     "output_type": "stream",
     "text": [
      "your favorite color is red,My favoite color is orange.\n",
      "Through the upgrade of the sytem,It can do simple aristhmetic now,please try\n"
     ]
    },
    {
     "name": "stdin",
     "output_type": "stream",
     "text": [
      " 3.2-3\n"
     ]
    },
    {
     "name": "stdout",
     "output_type": "stream",
     "text": [
      "Done.Result=0.20000000000000018\n"
     ]
    },
    {
     "name": "stdin",
     "output_type": "stream",
     "text": [
      " c\n"
     ]
    }
   ],
   "source": [
    "he=Hellobot()\n",
    "ge=Greetingbot()\n",
    "ce=Colorsbot()\n",
    "cae=Caculatebot()\n",
    "\n",
    "\n",
    "he.run()\n",
    "ge.run()\n",
    "ce.run()\n",
    "cae.run()"
   ]
  },
  {
   "cell_type": "code",
   "execution_count": 4,
   "metadata": {},
   "outputs": [],
   "source": [
    "class Garfield:\n",
    "    \n",
    "    def __init__(self):\n",
    "        self.bots=[]\n",
    "    def add(self,bot):        \n",
    "        self.bots.append(bot)    \n",
    "    def run(self):\n",
    "        print('This is a dialog sytem,Welcome!')\n",
    "        print()\n",
    "        for bot in self.bots:\n",
    "            bot.run()"
   ]
  },
  {
   "cell_type": "code",
   "execution_count": 5,
   "metadata": {},
   "outputs": [
    {
     "name": "stdout",
     "output_type": "stream",
     "text": [
      "This is a dialog sytem,Welcome!\n",
      "\n",
      "let us talk, what' your name\n"
     ]
    },
    {
     "name": "stdin",
     "output_type": "stream",
     "text": [
      " grace\n"
     ]
    },
    {
     "name": "stdout",
     "output_type": "stream",
     "text": [
      "hello grace\n",
      "How are you today?\n"
     ]
    },
    {
     "name": "stdin",
     "output_type": "stream",
     "text": [
      " good\n"
     ]
    },
    {
     "name": "stdout",
     "output_type": "stream",
     "text": [
      "I'm good too!\n",
      "what's the favorite color do you like?\n"
     ]
    },
    {
     "name": "stdin",
     "output_type": "stream",
     "text": [
      " red\n"
     ]
    },
    {
     "name": "stdout",
     "output_type": "stream",
     "text": [
      "your favorite color is red,My favoite color is orange.\n",
      "Through the upgrade of the sytem,It can do simple aristhmetic now,please try\n"
     ]
    },
    {
     "name": "stdin",
     "output_type": "stream",
     "text": [
      " 20.2/2\n"
     ]
    },
    {
     "name": "stdout",
     "output_type": "stream",
     "text": [
      "Done.Result=10.1\n"
     ]
    }
   ],
   "source": [
    "garfield=Garfield()\n",
    "garfield.add(Hellobot())\n",
    "garfield.add(Greetingbot())\n",
    "garfield.add(Colorsbot())\n",
    "garfield.add(Caculatebot())\n",
    "garfield.run()"
   ]
  }
 ],
 "metadata": {
  "kernelspec": {
   "display_name": "Python 3",
   "language": "python",
   "name": "python3"
  },
  "language_info": {
   "codemirror_mode": {
    "name": "ipython",
    "version": 3
   },
   "file_extension": ".py",
   "mimetype": "text/x-python",
   "name": "python",
   "nbconvert_exporter": "python",
   "pygments_lexer": "ipython3",
   "version": "3.7.4"
  }
 },
 "nbformat": 4,
 "nbformat_minor": 4
}
