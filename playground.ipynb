{
 "cells": [
  {
   "cell_type": "code",
   "execution_count": 3,
   "metadata": {},
   "outputs": [
    {
     "name": "stdout",
     "output_type": "stream",
     "text": [
      "let us talk, what' your name\n"
     ]
    },
    {
     "name": "stdin",
     "output_type": "stream",
     "text": [
      " grace\n"
     ]
    },
    {
     "name": "stdout",
     "output_type": "stream",
     "text": [
      "hello grace\n"
     ]
    }
   ],
   "source": [
    "print('let us talk, what\\' your name')\n",
    "a=input()\n",
    "print(f'hello {a}')"
   ]
  },
  {
   "cell_type": "code",
   "execution_count": 2,
   "metadata": {},
   "outputs": [
    {
     "name": "stdin",
     "output_type": "stream",
     "text": [
      "请输入您的姓名 妈妈\n"
     ]
    }
   ],
   "source": [
    "s = input('请输入您的姓名')\n",
    "if not s:\n",
    "    print('姓名不可为空，请重新输入')"
   ]
  },
  {
   "cell_type": "code",
   "execution_count": 3,
   "metadata": {},
   "outputs": [
    {
     "name": "stdout",
     "output_type": "stream",
     "text": [
      "a\n",
      "b\n",
      "r\n",
      "a\n",
      "c\n",
      "a\n",
      "d\n",
      "a\n",
      "b\n",
      "r\n",
      "a\n"
     ]
    }
   ],
   "source": [
    "s = 'abracadabra'\n",
    "for c in s:\n",
    "    print(c)"
   ]
  },
  {
   "cell_type": "code",
   "execution_count": 2,
   "metadata": {},
   "outputs": [
    {
     "name": "stdin",
     "output_type": "stream",
     "text": [
      "pleast enter your name,exit to quit gg\n",
      "pleast enter your name,exit to quit ggg\n",
      "pleast enter your name,exit to quit exit\n"
     ]
    }
   ],
   "source": [
    "while True:\n",
    "    n=input('pleast enter your name,exit to quit')\n",
    "    if n==\"exit\":\n",
    "        break\n",
    "        "
   ]
  },
  {
   "cell_type": "code",
   "execution_count": 1,
   "metadata": {},
   "outputs": [
    {
     "name": "stdout",
     "output_type": "stream",
     "text": [
      "how are you today?\n"
     ]
    },
    {
     "name": "stdin",
     "output_type": "stream",
     "text": [
      " find\n"
     ]
    },
    {
     "name": "stdout",
     "output_type": "stream",
     "text": [
      "I'm find too!\n"
     ]
    }
   ],
   "source": [
    "print('how are you today?')\n",
    "b=input()\n",
    "if 'good' or 'find' in b.lower():\n",
    "    print(f'I\\'m {b} too!')\n",
    "else:\n",
    "    print('sorry to hear that')"
   ]
  },
  {
   "cell_type": "code",
   "execution_count": 1,
   "metadata": {},
   "outputs": [
    {
     "name": "stdout",
     "output_type": "stream",
     "text": [
      "what's the favorite color do you like?\n"
     ]
    },
    {
     "name": "stdin",
     "output_type": "stream",
     "text": [
      " red\n"
     ]
    },
    {
     "name": "stdout",
     "output_type": "stream",
     "text": [
      "your favorite color is red,My favoite color is orange.\n"
     ]
    }
   ],
   "source": [
    "import random\n",
    "print('what\\'s the favorite color do you like?')\n",
    "c=input()\n",
    "colors=['red','orange','blue','green','puple','pink',]\n",
    "print(f'your favorite color is {c},My favoite color is {random.choice(colors)}.')"
   ]
  },
  {
   "cell_type": "code",
   "execution_count": 3,
   "metadata": {},
   "outputs": [
    {
     "name": "stdout",
     "output_type": "stream",
     "text": [
      "let us talk, what' your name\n"
     ]
    },
    {
     "name": "stdin",
     "output_type": "stream",
     "text": [
      " grace\n"
     ]
    },
    {
     "name": "stdout",
     "output_type": "stream",
     "text": [
      "hello grace\n"
     ]
    }
   ],
   "source": [
    "class Hello:\n",
    "    def run(self):\n",
    "        print('let us talk, what\\' your name')\n",
    "        a=input()\n",
    "        print(f'hello {a}')\n",
    "    \n",
    "d=Hello()\n",
    "d.run()"
   ]
  },
  {
   "cell_type": "code",
   "execution_count": 13,
   "metadata": {},
   "outputs": [
    {
     "name": "stdout",
     "output_type": "stream",
     "text": [
      "how are you today?\n"
     ]
    },
    {
     "name": "stdin",
     "output_type": "stream",
     "text": [
      " fine\n"
     ]
    },
    {
     "name": "stdout",
     "output_type": "stream",
     "text": [
      "sorry to hear that\n"
     ]
    }
   ],
   "source": [
    "class Greeting:\n",
    "    def run(self):\n",
    "        print('how are you today?')\n",
    "        b=input()\n",
    "        if 'good' in b.lower():\n",
    "            print(f'I\\'m {b} too!')\n",
    "        else:\n",
    "            print('sorry to hear that')\n",
    "e=Greeting()\n",
    "e.run()"
   ]
  },
  {
   "cell_type": "code",
   "execution_count": 2,
   "metadata": {},
   "outputs": [],
   "source": [
    "class Bot:\n",
    "    def __init__(self):\n",
    "        self.b=''\n",
    "    def _think(self,s):\n",
    "        return s\n",
    "    def run(self):\n",
    "        print(self.b)\n",
    "        self.a=input()\n",
    "        print(self._think(self.a))"
   ]
  },
  {
   "cell_type": "code",
   "execution_count": 3,
   "metadata": {},
   "outputs": [
    {
     "name": "stdout",
     "output_type": "stream",
     "text": [
      "let us talk, what' your name\n"
     ]
    },
    {
     "name": "stdin",
     "output_type": "stream",
     "text": [
      " grace\n"
     ]
    },
    {
     "name": "stdout",
     "output_type": "stream",
     "text": [
      "hello grace\n"
     ]
    }
   ],
   "source": [
    "class Hellobot(Bot):\n",
    "    def __init__(self):\n",
    "        self.b='let us talk, what\\' your name'\n",
    "    def _think(self,s):\n",
    "        return f'hello {s}'\n",
    "    \n",
    "    \n",
    "he=Hellobot()\n",
    "he.run()"
   ]
  },
  {
   "cell_type": "code",
   "execution_count": 4,
   "metadata": {},
   "outputs": [
    {
     "name": "stdout",
     "output_type": "stream",
     "text": [
      "How are you today?\n"
     ]
    },
    {
     "name": "stdin",
     "output_type": "stream",
     "text": [
      " fine\n"
     ]
    },
    {
     "name": "stdout",
     "output_type": "stream",
     "text": [
      "sorry to hear that\n"
     ]
    }
   ],
   "source": [
    "class Greetingbot(Bot):\n",
    "    def __init__(self):\n",
    "        self.b='How are you today?'\n",
    "    def _think(self,s):\n",
    "        if 'good' in s:\n",
    "            return 'I\\'m good too!'\n",
    "        else:\n",
    "            return 'sorry to hear that'\n",
    "    \n",
    "    \n",
    "ge=Greetingbot()\n",
    "ge.run()"
   ]
  },
  {
   "cell_type": "code",
   "execution_count": 8,
   "metadata": {},
   "outputs": [
    {
     "name": "stdout",
     "output_type": "stream",
     "text": [
      "what's the favorite color do you like?\n"
     ]
    },
    {
     "name": "stdin",
     "output_type": "stream",
     "text": [
      " green\n"
     ]
    },
    {
     "name": "stdout",
     "output_type": "stream",
     "text": [
      "your favorite color is green,My favoite color is pink.\n"
     ]
    }
   ],
   "source": [
    "import random\n",
    "class Colorsbot(Bot):\n",
    "    def __init__(self):\n",
    "        self.b='what\\'s the favorite color do you like?'\n",
    "    def _think(self,s):\n",
    "        colors=['red','orange','blue','green','puple','pink',]\n",
    "        return f'your favorite color is {s},My favoite color is {random.choice(colors)}.'\n",
    "    \n",
    "ce=Colorsbot()\n",
    "ce.run()"
   ]
  }
 ],
 "metadata": {
  "kernelspec": {
   "display_name": "Python 3",
   "language": "python",
   "name": "python3"
  },
  "language_info": {
   "codemirror_mode": {
    "name": "ipython",
    "version": 3
   },
   "file_extension": ".py",
   "mimetype": "text/x-python",
   "name": "python",
   "nbconvert_exporter": "python",
   "pygments_lexer": "ipython3",
   "version": "3.7.4"
  }
 },
 "nbformat": 4,
 "nbformat_minor": 4
}
